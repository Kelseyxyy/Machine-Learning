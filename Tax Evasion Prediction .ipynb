{
 "cells": [
  {
   "cell_type": "markdown",
   "id": "915ea353",
   "metadata": {},
   "source": [
    "# Machine Learning - Mini Project: Tax Evasion Prediction\n",
    "\n",
    "Name: Kelsey Xing \\\n",
    "Date: Feb 4, 2024\n",
    "\n"
   ]
  },
  {
   "cell_type": "markdown",
   "id": "f5ae3563",
   "metadata": {},
   "source": [
    "## Case Background:\n",
    "The capacity of the government to collect taxes is pivotal to long-run economic growth because without tax revenue, the state cannot provide public goods. One way to increase tax revenue is by reducing the probability of successful tax evasion; as probability of success decreases, the incentive to cheat gets weaker. To reduce the probability of successful tax evasion while not increasing government expenditure on audits, the government wants to increase the probability of catching tax evasion by reducing the number of audits performed on firms that paid their taxes and increasing the number of audits performed on firms that evaded their taxes. \n",
    "\n",
    "The following project uses a mmachine learning techniques to approach this effort. By using a Linear Probability Model (LPM) and a k-Nearest Neighbors (KNN) saparetly, we try to predicted whether a firm has evaded taxes with a low classification error rate. \n",
    "\n",
    "The dataset used for this project contains information on firms that the government of India suspected of tax evasion and subsequently the Comptroller and Auditor General (CAG) of India performed audits on. Table 1 contains the variable names and their definitions. The outcome variable is whether the auditor found that the firm evaded taxes as a result of the audit (Risk). The predictors include various quantitative measures about the firms.2\n",
    "\n"
   ]
  },
  {
   "cell_type": "markdown",
   "id": "8e092a3d",
   "metadata": {},
   "source": [
    "## Data Analysis: "
   ]
  },
  {
   "cell_type": "code",
   "execution_count": 1,
   "id": "692cc85d",
   "metadata": {},
   "outputs": [],
   "source": [
    "import numpy as np\n",
    "import pandas as pd\n",
    "from sklearn.model_selection import train_test_split\n",
    "import statsmodels.formula.api as smf\n",
    "from sklearn.metrics import accuracy_score\n",
    "from sklearn.metrics import confusion_matrix\n",
    "from sklearn.neighbors import KNeighborsClassifier\n",
    "from sklearn.preprocessing import StandardScaler\n",
    "from sklearn.metrics import precision_score\n",
    "from sklearn.model_selection import GridSearchCV, KFold"
   ]
  },
  {
   "cell_type": "markdown",
   "id": "05bed79a",
   "metadata": {},
   "source": [
    "### Data Processing"
   ]
  },
  {
   "cell_type": "code",
   "execution_count": 2,
   "id": "7158a7af",
   "metadata": {},
   "outputs": [
    {
     "data": {
      "text/plain": [
       "Sector_score     0\n",
       "PARA_A           0\n",
       "Risk_A           0\n",
       "PARA_B           0\n",
       "Risk_B           0\n",
       "Money_Value      1\n",
       "Risk_D           0\n",
       "Score            0\n",
       "Inherent_Risk    0\n",
       "Audit_Risk       0\n",
       "Risk             0\n",
       "dtype: int64"
      ]
     },
     "execution_count": 2,
     "metadata": {},
     "output_type": "execute_result"
    }
   ],
   "source": [
    "# Load data\n",
    "audit = pd.read_csv('Data-Audit.csv')\n",
    "# Check and drop N/A\n",
    "audit.isnull().sum()"
   ]
  },
  {
   "cell_type": "code",
   "execution_count": 3,
   "id": "d87968c9",
   "metadata": {},
   "outputs": [
    {
     "data": {
      "text/html": [
       "<div>\n",
       "<style scoped>\n",
       "    .dataframe tbody tr th:only-of-type {\n",
       "        vertical-align: middle;\n",
       "    }\n",
       "\n",
       "    .dataframe tbody tr th {\n",
       "        vertical-align: top;\n",
       "    }\n",
       "\n",
       "    .dataframe thead th {\n",
       "        text-align: right;\n",
       "    }\n",
       "</style>\n",
       "<table border=\"1\" class=\"dataframe\">\n",
       "  <thead>\n",
       "    <tr style=\"text-align: right;\">\n",
       "      <th></th>\n",
       "      <th>Sector_score</th>\n",
       "      <th>PARA_A</th>\n",
       "      <th>Risk_A</th>\n",
       "      <th>PARA_B</th>\n",
       "      <th>Risk_B</th>\n",
       "      <th>Money_Value</th>\n",
       "      <th>Risk_D</th>\n",
       "      <th>Score</th>\n",
       "      <th>Inherent_Risk</th>\n",
       "      <th>Audit_Risk</th>\n",
       "      <th>Risk</th>\n",
       "    </tr>\n",
       "  </thead>\n",
       "  <tbody>\n",
       "    <tr>\n",
       "      <th>0</th>\n",
       "      <td>3.89</td>\n",
       "      <td>4.18</td>\n",
       "      <td>2.508</td>\n",
       "      <td>2.50</td>\n",
       "      <td>0.500</td>\n",
       "      <td>3.38</td>\n",
       "      <td>0.676</td>\n",
       "      <td>2.4</td>\n",
       "      <td>8.574</td>\n",
       "      <td>1.7148</td>\n",
       "      <td>1</td>\n",
       "    </tr>\n",
       "    <tr>\n",
       "      <th>1</th>\n",
       "      <td>3.89</td>\n",
       "      <td>0.00</td>\n",
       "      <td>0.000</td>\n",
       "      <td>4.83</td>\n",
       "      <td>0.966</td>\n",
       "      <td>0.94</td>\n",
       "      <td>0.188</td>\n",
       "      <td>2.0</td>\n",
       "      <td>2.554</td>\n",
       "      <td>0.5108</td>\n",
       "      <td>0</td>\n",
       "    </tr>\n",
       "    <tr>\n",
       "      <th>2</th>\n",
       "      <td>3.89</td>\n",
       "      <td>0.51</td>\n",
       "      <td>0.102</td>\n",
       "      <td>0.23</td>\n",
       "      <td>0.046</td>\n",
       "      <td>0.00</td>\n",
       "      <td>0.000</td>\n",
       "      <td>2.0</td>\n",
       "      <td>1.548</td>\n",
       "      <td>0.3096</td>\n",
       "      <td>0</td>\n",
       "    </tr>\n",
       "    <tr>\n",
       "      <th>3</th>\n",
       "      <td>3.89</td>\n",
       "      <td>0.00</td>\n",
       "      <td>0.000</td>\n",
       "      <td>10.80</td>\n",
       "      <td>6.480</td>\n",
       "      <td>11.75</td>\n",
       "      <td>7.050</td>\n",
       "      <td>4.4</td>\n",
       "      <td>17.530</td>\n",
       "      <td>3.5060</td>\n",
       "      <td>1</td>\n",
       "    </tr>\n",
       "    <tr>\n",
       "      <th>4</th>\n",
       "      <td>3.89</td>\n",
       "      <td>0.00</td>\n",
       "      <td>0.000</td>\n",
       "      <td>0.08</td>\n",
       "      <td>0.016</td>\n",
       "      <td>0.00</td>\n",
       "      <td>0.000</td>\n",
       "      <td>2.0</td>\n",
       "      <td>1.416</td>\n",
       "      <td>0.2832</td>\n",
       "      <td>0</td>\n",
       "    </tr>\n",
       "  </tbody>\n",
       "</table>\n",
       "</div>"
      ],
      "text/plain": [
       "   Sector_score  PARA_A  Risk_A  PARA_B  Risk_B  Money_Value  Risk_D  Score  \\\n",
       "0          3.89    4.18   2.508    2.50   0.500         3.38   0.676    2.4   \n",
       "1          3.89    0.00   0.000    4.83   0.966         0.94   0.188    2.0   \n",
       "2          3.89    0.51   0.102    0.23   0.046         0.00   0.000    2.0   \n",
       "3          3.89    0.00   0.000   10.80   6.480        11.75   7.050    4.4   \n",
       "4          3.89    0.00   0.000    0.08   0.016         0.00   0.000    2.0   \n",
       "\n",
       "   Inherent_Risk  Audit_Risk  Risk  \n",
       "0          8.574      1.7148     1  \n",
       "1          2.554      0.5108     0  \n",
       "2          1.548      0.3096     0  \n",
       "3         17.530      3.5060     1  \n",
       "4          1.416      0.2832     0  "
      ]
     },
     "metadata": {},
     "output_type": "display_data"
    }
   ],
   "source": [
    "audit = audit.dropna()\n",
    "pd.set_option('display.max_columns', None)\n",
    "display(audit.head())"
   ]
  },
  {
   "cell_type": "code",
   "execution_count": 4,
   "id": "2ad8bcc7",
   "metadata": {},
   "outputs": [],
   "source": [
    "# Training/Validation set split\n",
    "X = audit.drop(columns = ['Risk'])\n",
    "y = audit['Risk']\n",
    "X_train, X_val, y_train, y_val = train_test_split(X, y, test_size=0.5, random_state=13)"
   ]
  },
  {
   "cell_type": "code",
   "execution_count": 5,
   "id": "bde3d883",
   "metadata": {},
   "outputs": [],
   "source": [
    "# Meger X_train and y_train\n",
    "train = X_train.merge(y_train, how = 'left', left_index =True, right_index=True)"
   ]
  },
  {
   "cell_type": "markdown",
   "id": "b326382d",
   "metadata": {},
   "source": [
    "### LPM Construction & Error Rate Report"
   ]
  },
  {
   "cell_type": "code",
   "execution_count": 6,
   "id": "0f7d5075",
   "metadata": {},
   "outputs": [
    {
     "name": "stdout",
     "output_type": "stream",
     "text": [
      "                            OLS Regression Results                            \n",
      "==============================================================================\n",
      "Dep. Variable:                   Risk   R-squared:                       0.641\n",
      "Model:                            OLS   Adj. R-squared:                  0.632\n",
      "Method:                 Least Squares   F-statistic:                     67.18\n",
      "Date:                Fri, 16 Feb 2024   Prob (F-statistic):           1.97e-77\n",
      "Time:                        16:48:52   Log-Likelihood:                -70.544\n",
      "No. Observations:                 387   AIC:                             163.1\n",
      "Df Residuals:                     376   BIC:                             206.6\n",
      "Df Model:                          10                                         \n",
      "Covariance Type:            nonrobust                                         \n",
      "=================================================================================\n",
      "                    coef    std err          t      P>|t|      [0.025      0.975]\n",
      "---------------------------------------------------------------------------------\n",
      "Intercept        -0.8535      0.081    -10.548      0.000      -1.013      -0.694\n",
      "Sector_score     -0.0027      0.001     -4.042      0.000      -0.004      -0.001\n",
      "PARA_A            0.0021      0.073      0.029      0.977      -0.141       0.145\n",
      "Risk_A           -0.0800      0.123     -0.650      0.516      -0.322       0.162\n",
      "PARA_B            0.0379      0.026      1.454      0.147      -0.013       0.089\n",
      "Risk_B           -0.1508      0.050     -3.016      0.003      -0.249      -0.052\n",
      "Money_Value       0.0433      0.022      1.928      0.055      -0.001       0.087\n",
      "Risk_D           -0.1556      0.052     -3.022      0.003      -0.257      -0.054\n",
      "Score             0.4316      0.034     12.828      0.000       0.365       0.498\n",
      "Inherent_Risk     0.0843      0.030      2.771      0.006       0.024       0.144\n",
      "Audit_Risk       -0.0028      0.002     -1.716      0.087      -0.006       0.000\n",
      "==============================================================================\n",
      "Omnibus:                       40.155   Durbin-Watson:                   2.069\n",
      "Prob(Omnibus):                  0.000   Jarque-Bera (JB):               49.795\n",
      "Skew:                           0.823   Prob(JB):                     1.54e-11\n",
      "Kurtosis:                       3.616   Cond. No.                         951.\n",
      "==============================================================================\n",
      "\n",
      "Notes:\n",
      "[1] Standard Errors assume that the covariance matrix of the errors is correctly specified.\n"
     ]
    }
   ],
   "source": [
    "#Fit a LPM model\n",
    "result = smf.ols(\n",
    "    'Risk ~ Sector_score + PARA_A + Risk_A + PARA_B + Risk_B + Money_Value + Risk_D + Score + Inherent_Risk + Audit_Risk',\n",
    "    data = train\n",
    ").fit()\n",
    "print(result.summary())"
   ]
  },
  {
   "cell_type": "code",
   "execution_count": 7,
   "id": "a7b2017c",
   "metadata": {},
   "outputs": [
    {
     "data": {
      "text/html": [
       "<div>\n",
       "<style scoped>\n",
       "    .dataframe tbody tr th:only-of-type {\n",
       "        vertical-align: middle;\n",
       "    }\n",
       "\n",
       "    .dataframe tbody tr th {\n",
       "        vertical-align: top;\n",
       "    }\n",
       "\n",
       "    .dataframe thead th {\n",
       "        text-align: right;\n",
       "    }\n",
       "</style>\n",
       "<table border=\"1\" class=\"dataframe\">\n",
       "  <thead>\n",
       "    <tr style=\"text-align: right;\">\n",
       "      <th></th>\n",
       "      <th>Prediction</th>\n",
       "    </tr>\n",
       "  </thead>\n",
       "  <tbody>\n",
       "    <tr>\n",
       "      <th>135</th>\n",
       "      <td>0.930844</td>\n",
       "    </tr>\n",
       "    <tr>\n",
       "      <th>4</th>\n",
       "      <td>0.118232</td>\n",
       "    </tr>\n",
       "    <tr>\n",
       "      <th>356</th>\n",
       "      <td>0.124035</td>\n",
       "    </tr>\n",
       "    <tr>\n",
       "      <th>413</th>\n",
       "      <td>0.539158</td>\n",
       "    </tr>\n",
       "    <tr>\n",
       "      <th>259</th>\n",
       "      <td>0.254490</td>\n",
       "    </tr>\n",
       "    <tr>\n",
       "      <th>...</th>\n",
       "      <td>...</td>\n",
       "    </tr>\n",
       "    <tr>\n",
       "      <th>474</th>\n",
       "      <td>0.121852</td>\n",
       "    </tr>\n",
       "    <tr>\n",
       "      <th>345</th>\n",
       "      <td>0.180353</td>\n",
       "    </tr>\n",
       "    <tr>\n",
       "      <th>360</th>\n",
       "      <td>0.360905</td>\n",
       "    </tr>\n",
       "    <tr>\n",
       "      <th>284</th>\n",
       "      <td>0.912360</td>\n",
       "    </tr>\n",
       "    <tr>\n",
       "      <th>404</th>\n",
       "      <td>0.484836</td>\n",
       "    </tr>\n",
       "  </tbody>\n",
       "</table>\n",
       "<p>388 rows × 1 columns</p>\n",
       "</div>"
      ],
      "text/plain": [
       "     Prediction\n",
       "135    0.930844\n",
       "4      0.118232\n",
       "356    0.124035\n",
       "413    0.539158\n",
       "259    0.254490\n",
       "..          ...\n",
       "474    0.121852\n",
       "345    0.180353\n",
       "360    0.360905\n",
       "284    0.912360\n",
       "404    0.484836\n",
       "\n",
       "[388 rows x 1 columns]"
      ]
     },
     "execution_count": 7,
     "metadata": {},
     "output_type": "execute_result"
    }
   ],
   "source": [
    "# Make prediction\n",
    "prediction = pd.DataFrame(result.predict(X_val), columns = ['Prediction']) \n",
    "prediction"
   ]
  },
  {
   "cell_type": "code",
   "execution_count": 8,
   "id": "ee5076a1",
   "metadata": {},
   "outputs": [
    {
     "data": {
      "text/html": [
       "<div>\n",
       "<style scoped>\n",
       "    .dataframe tbody tr th:only-of-type {\n",
       "        vertical-align: middle;\n",
       "    }\n",
       "\n",
       "    .dataframe tbody tr th {\n",
       "        vertical-align: top;\n",
       "    }\n",
       "\n",
       "    .dataframe thead th {\n",
       "        text-align: right;\n",
       "    }\n",
       "</style>\n",
       "<table border=\"1\" class=\"dataframe\">\n",
       "  <thead>\n",
       "    <tr style=\"text-align: right;\">\n",
       "      <th></th>\n",
       "      <th>Risk</th>\n",
       "      <th>Prediction</th>\n",
       "    </tr>\n",
       "  </thead>\n",
       "  <tbody>\n",
       "    <tr>\n",
       "      <th>135</th>\n",
       "      <td>1</td>\n",
       "      <td>0.930844</td>\n",
       "    </tr>\n",
       "    <tr>\n",
       "      <th>4</th>\n",
       "      <td>0</td>\n",
       "      <td>0.118232</td>\n",
       "    </tr>\n",
       "    <tr>\n",
       "      <th>356</th>\n",
       "      <td>0</td>\n",
       "      <td>0.124035</td>\n",
       "    </tr>\n",
       "    <tr>\n",
       "      <th>413</th>\n",
       "      <td>1</td>\n",
       "      <td>0.539158</td>\n",
       "    </tr>\n",
       "    <tr>\n",
       "      <th>259</th>\n",
       "      <td>0</td>\n",
       "      <td>0.254490</td>\n",
       "    </tr>\n",
       "    <tr>\n",
       "      <th>...</th>\n",
       "      <td>...</td>\n",
       "      <td>...</td>\n",
       "    </tr>\n",
       "    <tr>\n",
       "      <th>474</th>\n",
       "      <td>0</td>\n",
       "      <td>0.121852</td>\n",
       "    </tr>\n",
       "    <tr>\n",
       "      <th>345</th>\n",
       "      <td>0</td>\n",
       "      <td>0.180353</td>\n",
       "    </tr>\n",
       "    <tr>\n",
       "      <th>360</th>\n",
       "      <td>1</td>\n",
       "      <td>0.360905</td>\n",
       "    </tr>\n",
       "    <tr>\n",
       "      <th>284</th>\n",
       "      <td>1</td>\n",
       "      <td>0.912360</td>\n",
       "    </tr>\n",
       "    <tr>\n",
       "      <th>404</th>\n",
       "      <td>1</td>\n",
       "      <td>0.484836</td>\n",
       "    </tr>\n",
       "  </tbody>\n",
       "</table>\n",
       "<p>388 rows × 2 columns</p>\n",
       "</div>"
      ],
      "text/plain": [
       "     Risk  Prediction\n",
       "135     1    0.930844\n",
       "4       0    0.118232\n",
       "356     0    0.124035\n",
       "413     1    0.539158\n",
       "259     0    0.254490\n",
       "..    ...         ...\n",
       "474     0    0.121852\n",
       "345     0    0.180353\n",
       "360     1    0.360905\n",
       "284     1    0.912360\n",
       "404     1    0.484836\n",
       "\n",
       "[388 rows x 2 columns]"
      ]
     },
     "execution_count": 8,
     "metadata": {},
     "output_type": "execute_result"
    }
   ],
   "source": [
    "risk = pd.DataFrame(y_val, columns = ['Risk'])\n",
    "result = risk.merge(prediction, how = 'inner', left_index =True, right_index=True)\n",
    "result"
   ]
  },
  {
   "cell_type": "code",
   "execution_count": 9,
   "id": "bddc5816",
   "metadata": {},
   "outputs": [
    {
     "data": {
      "text/html": [
       "<div>\n",
       "<style scoped>\n",
       "    .dataframe tbody tr th:only-of-type {\n",
       "        vertical-align: middle;\n",
       "    }\n",
       "\n",
       "    .dataframe tbody tr th {\n",
       "        vertical-align: top;\n",
       "    }\n",
       "\n",
       "    .dataframe thead th {\n",
       "        text-align: right;\n",
       "    }\n",
       "</style>\n",
       "<table border=\"1\" class=\"dataframe\">\n",
       "  <thead>\n",
       "    <tr style=\"text-align: right;\">\n",
       "      <th></th>\n",
       "      <th>Risk</th>\n",
       "      <th>Prediction</th>\n",
       "      <th>Category_a</th>\n",
       "    </tr>\n",
       "  </thead>\n",
       "  <tbody>\n",
       "    <tr>\n",
       "      <th>135</th>\n",
       "      <td>1</td>\n",
       "      <td>0.930844</td>\n",
       "      <td>1</td>\n",
       "    </tr>\n",
       "    <tr>\n",
       "      <th>4</th>\n",
       "      <td>0</td>\n",
       "      <td>0.118232</td>\n",
       "      <td>0</td>\n",
       "    </tr>\n",
       "    <tr>\n",
       "      <th>356</th>\n",
       "      <td>0</td>\n",
       "      <td>0.124035</td>\n",
       "      <td>0</td>\n",
       "    </tr>\n",
       "    <tr>\n",
       "      <th>413</th>\n",
       "      <td>1</td>\n",
       "      <td>0.539158</td>\n",
       "      <td>1</td>\n",
       "    </tr>\n",
       "    <tr>\n",
       "      <th>259</th>\n",
       "      <td>0</td>\n",
       "      <td>0.254490</td>\n",
       "      <td>0</td>\n",
       "    </tr>\n",
       "    <tr>\n",
       "      <th>...</th>\n",
       "      <td>...</td>\n",
       "      <td>...</td>\n",
       "      <td>...</td>\n",
       "    </tr>\n",
       "    <tr>\n",
       "      <th>474</th>\n",
       "      <td>0</td>\n",
       "      <td>0.121852</td>\n",
       "      <td>0</td>\n",
       "    </tr>\n",
       "    <tr>\n",
       "      <th>345</th>\n",
       "      <td>0</td>\n",
       "      <td>0.180353</td>\n",
       "      <td>0</td>\n",
       "    </tr>\n",
       "    <tr>\n",
       "      <th>360</th>\n",
       "      <td>1</td>\n",
       "      <td>0.360905</td>\n",
       "      <td>0</td>\n",
       "    </tr>\n",
       "    <tr>\n",
       "      <th>284</th>\n",
       "      <td>1</td>\n",
       "      <td>0.912360</td>\n",
       "      <td>1</td>\n",
       "    </tr>\n",
       "    <tr>\n",
       "      <th>404</th>\n",
       "      <td>1</td>\n",
       "      <td>0.484836</td>\n",
       "      <td>0</td>\n",
       "    </tr>\n",
       "  </tbody>\n",
       "</table>\n",
       "<p>388 rows × 3 columns</p>\n",
       "</div>"
      ],
      "text/plain": [
       "     Risk  Prediction  Category_a\n",
       "135     1    0.930844           1\n",
       "4       0    0.118232           0\n",
       "356     0    0.124035           0\n",
       "413     1    0.539158           1\n",
       "259     0    0.254490           0\n",
       "..    ...         ...         ...\n",
       "474     0    0.121852           0\n",
       "345     0    0.180353           0\n",
       "360     1    0.360905           0\n",
       "284     1    0.912360           1\n",
       "404     1    0.484836           0\n",
       "\n",
       "[388 rows x 3 columns]"
      ]
     },
     "execution_count": 9,
     "metadata": {},
     "output_type": "execute_result"
    }
   ],
   "source": [
    "#For firms with a predicted probability of tax evasion greater than 0.5, construct the confusion matrix\n",
    "result['Category_a'] = np.where(result['Prediction'] >= 0.5, 1, 0)\n",
    "result"
   ]
  },
  {
   "cell_type": "code",
   "execution_count": 10,
   "id": "b90f6a6d",
   "metadata": {},
   "outputs": [
    {
     "name": "stdout",
     "output_type": "stream",
     "text": [
      "[[221   8]\n",
      " [ 29 130]]\n",
      "[[0.9650655  0.0349345 ]\n",
      " [0.18238994 0.81761006]]\n"
     ]
    }
   ],
   "source": [
    "#Confusion matrix\n",
    "#Analyze counts\n",
    "cm_ols_c = confusion_matrix(result['Risk'],result['Category_a'])\n",
    "print(cm_ols_c)\n",
    "#Analyze percentage\n",
    "cm_ols_p = confusion_matrix(result['Risk'],result['Category_a'], normalize = 'true')\n",
    "print(cm_ols_p)"
   ]
  },
  {
   "cell_type": "code",
   "execution_count": 11,
   "id": "2f91abcb",
   "metadata": {},
   "outputs": [
    {
     "data": {
      "text/html": [
       "<div>\n",
       "<style scoped>\n",
       "    .dataframe tbody tr th:only-of-type {\n",
       "        vertical-align: middle;\n",
       "    }\n",
       "\n",
       "    .dataframe tbody tr th {\n",
       "        vertical-align: top;\n",
       "    }\n",
       "\n",
       "    .dataframe thead th {\n",
       "        text-align: right;\n",
       "    }\n",
       "</style>\n",
       "<table border=\"1\" class=\"dataframe\">\n",
       "  <thead>\n",
       "    <tr style=\"text-align: right;\">\n",
       "      <th></th>\n",
       "      <th>Risk</th>\n",
       "      <th>Prediction</th>\n",
       "      <th>Category_a</th>\n",
       "      <th>Category_b</th>\n",
       "    </tr>\n",
       "  </thead>\n",
       "  <tbody>\n",
       "    <tr>\n",
       "      <th>135</th>\n",
       "      <td>1</td>\n",
       "      <td>0.930844</td>\n",
       "      <td>1</td>\n",
       "      <td>1</td>\n",
       "    </tr>\n",
       "    <tr>\n",
       "      <th>4</th>\n",
       "      <td>0</td>\n",
       "      <td>0.118232</td>\n",
       "      <td>0</td>\n",
       "      <td>0</td>\n",
       "    </tr>\n",
       "    <tr>\n",
       "      <th>356</th>\n",
       "      <td>0</td>\n",
       "      <td>0.124035</td>\n",
       "      <td>0</td>\n",
       "      <td>0</td>\n",
       "    </tr>\n",
       "    <tr>\n",
       "      <th>413</th>\n",
       "      <td>1</td>\n",
       "      <td>0.539158</td>\n",
       "      <td>1</td>\n",
       "      <td>0</td>\n",
       "    </tr>\n",
       "    <tr>\n",
       "      <th>259</th>\n",
       "      <td>0</td>\n",
       "      <td>0.254490</td>\n",
       "      <td>0</td>\n",
       "      <td>0</td>\n",
       "    </tr>\n",
       "    <tr>\n",
       "      <th>...</th>\n",
       "      <td>...</td>\n",
       "      <td>...</td>\n",
       "      <td>...</td>\n",
       "      <td>...</td>\n",
       "    </tr>\n",
       "    <tr>\n",
       "      <th>474</th>\n",
       "      <td>0</td>\n",
       "      <td>0.121852</td>\n",
       "      <td>0</td>\n",
       "      <td>0</td>\n",
       "    </tr>\n",
       "    <tr>\n",
       "      <th>345</th>\n",
       "      <td>0</td>\n",
       "      <td>0.180353</td>\n",
       "      <td>0</td>\n",
       "      <td>0</td>\n",
       "    </tr>\n",
       "    <tr>\n",
       "      <th>360</th>\n",
       "      <td>1</td>\n",
       "      <td>0.360905</td>\n",
       "      <td>0</td>\n",
       "      <td>0</td>\n",
       "    </tr>\n",
       "    <tr>\n",
       "      <th>284</th>\n",
       "      <td>1</td>\n",
       "      <td>0.912360</td>\n",
       "      <td>1</td>\n",
       "      <td>1</td>\n",
       "    </tr>\n",
       "    <tr>\n",
       "      <th>404</th>\n",
       "      <td>1</td>\n",
       "      <td>0.484836</td>\n",
       "      <td>0</td>\n",
       "      <td>0</td>\n",
       "    </tr>\n",
       "  </tbody>\n",
       "</table>\n",
       "<p>388 rows × 4 columns</p>\n",
       "</div>"
      ],
      "text/plain": [
       "     Risk  Prediction  Category_a  Category_b\n",
       "135     1    0.930844           1           1\n",
       "4       0    0.118232           0           0\n",
       "356     0    0.124035           0           0\n",
       "413     1    0.539158           1           0\n",
       "259     0    0.254490           0           0\n",
       "..    ...         ...         ...         ...\n",
       "474     0    0.121852           0           0\n",
       "345     0    0.180353           0           0\n",
       "360     1    0.360905           0           0\n",
       "284     1    0.912360           1           1\n",
       "404     1    0.484836           0           0\n",
       "\n",
       "[388 rows x 4 columns]"
      ]
     },
     "execution_count": 11,
     "metadata": {},
     "output_type": "execute_result"
    }
   ],
   "source": [
    "#For firms with a predicted probability of tax evasion greater than 0.6, construct the confusion matrix.\n",
    "result['Category_b'] = np.where(result['Prediction'] >= 0.6, 1, 0)\n",
    "result"
   ]
  },
  {
   "cell_type": "code",
   "execution_count": 12,
   "id": "7ce11b8f",
   "metadata": {},
   "outputs": [
    {
     "name": "stdout",
     "output_type": "stream",
     "text": [
      "[[225   4]\n",
      " [ 39 120]]\n",
      "[[0.98253275 0.01746725]\n",
      " [0.24528302 0.75471698]]\n"
     ]
    }
   ],
   "source": [
    "#Confusion matrix of LDM\n",
    "#Analyze counts\n",
    "cm_ols_c = confusion_matrix(result['Risk'], result['Category_b'])\n",
    "print(cm_ols_c)\n",
    "#Analyze percentage\n",
    "cm_ols_p = confusion_matrix(result['Risk'], result['Category_b'], normalize = 'true')\n",
    "print(cm_ols_p)"
   ]
  },
  {
   "cell_type": "code",
   "execution_count": 13,
   "id": "0a02ee79",
   "metadata": {},
   "outputs": [
    {
     "name": "stdout",
     "output_type": "stream",
     "text": [
      "For threshold = 0.5, error rate = 9.54%\n",
      "For threshold = 0.6, error rate = 11.08%\n"
     ]
    }
   ],
   "source": [
    "#report error code\n",
    "# Threshold = 0.5:\n",
    "accuracy = accuracy_score(result['Risk'], result['Category_a'])\n",
    "test_error = 1 - accuracy\n",
    "print(f'For threshold = 0.5, error rate = {test_error:.2%}')\n",
    "\n",
    "# Threshold = 0.6:\n",
    "accuracy = accuracy_score(result['Risk'], result['Category_b'])\n",
    "test_error = 1 - accuracy\n",
    "print(f'For threshold = 0.6, error rate = {test_error:.2%}')"
   ]
  },
  {
   "cell_type": "markdown",
   "id": "edbc704a",
   "metadata": {},
   "source": [
    "According to the error rate, LPM model with threshold = 0.5 results in a more accurate overall prediction."
   ]
  },
  {
   "cell_type": "code",
   "execution_count": 14,
   "id": "eb71f7ad",
   "metadata": {},
   "outputs": [
    {
     "name": "stdout",
     "output_type": "stream",
     "text": [
      "For thershold = 0.5, 94.20% of the firms predicted to evade their taxes actually evaded taxes\n",
      "For thershold = 0.6, 96.77% of the firms predicted to evade their taxes actually evaded taxes\n"
     ]
    }
   ],
   "source": [
    "#proportion of the firms predicted to evade their taxes actually evaded taxes\n",
    "# Threshold = 0.5:\n",
    "precision_a = precision_score(result['Risk'], result['Category_a']) \n",
    "print(f'For thershold = 0.5, {precision_a:.2%} of the firms predicted to evade their taxes actually evaded taxes')\n",
    "\n",
    "# Threshold = 0.6:\n",
    "precision_b = precision_score(result['Risk'], result['Category_b']) \n",
    "print(f'For thershold = 0.6, {precision_b:.2%} of the firms predicted to evade their taxes actually evaded taxes')\n"
   ]
  },
  {
   "cell_type": "markdown",
   "id": "4f9331d2",
   "metadata": {},
   "source": [
    "### KNN Model Construction & Error Rate Report\n"
   ]
  },
  {
   "cell_type": "markdown",
   "id": "756ccec9",
   "metadata": {},
   "source": [
    "#### Without data normalization"
   ]
  },
  {
   "cell_type": "code",
   "execution_count": 15,
   "id": "da37cbed",
   "metadata": {},
   "outputs": [],
   "source": [
    "#fit KNN model with k = 5\n",
    "knn_5 = KNeighborsClassifier(n_neighbors = 5)\n",
    "knn_5.fit(X_train, y_train)\n",
    "knn_5_pred = knn_5.predict(X_val)"
   ]
  },
  {
   "cell_type": "code",
   "execution_count": 16,
   "id": "8b1c8ea0",
   "metadata": {},
   "outputs": [
    {
     "name": "stdout",
     "output_type": "stream",
     "text": [
      "[[226   3]\n",
      " [ 11 148]]\n",
      "[[0.98689956 0.01310044]\n",
      " [0.06918239 0.93081761]]\n"
     ]
    }
   ],
   "source": [
    "#Confusion matrix of KNN\n",
    "#Analyze counts\n",
    "cm_KNN_c = confusion_matrix(y_val, knn_5_pred)\n",
    "print(cm_KNN_c)\n",
    "\n",
    "#Analyze percentage\n",
    "cm_KNN_p = confusion_matrix(y_val, knn_5_pred, normalize = 'true')\n",
    "print(cm_KNN_p)"
   ]
  },
  {
   "cell_type": "code",
   "execution_count": 17,
   "id": "93249e5c",
   "metadata": {},
   "outputs": [
    {
     "name": "stdout",
     "output_type": "stream",
     "text": [
      "KNN model with k = 5:  error rate = 3.61% , accuracy = 96.39%\n"
     ]
    }
   ],
   "source": [
    "#report error rate\n",
    "accuracy = accuracy_score(y_val, knn_5_pred)\n",
    "test_error = 1 - accuracy\n",
    "print(f'KNN model with k = 5:  error rate = {test_error:.2%} , accuracy = {accuracy:.2%}')"
   ]
  },
  {
   "cell_type": "code",
   "execution_count": 18,
   "id": "f41a5150",
   "metadata": {},
   "outputs": [
    {
     "name": "stdout",
     "output_type": "stream",
     "text": [
      "For KNN with k = 5, 98.01% of the firms predicted to evade their taxes actually evaded taxes\n"
     ]
    }
   ],
   "source": [
    "#report the proportion of the firms predicted to evade their taxes actually evaded taxes\n",
    "precision = precision_score(y_val, knn_5_pred) \n",
    "print(f'For KNN with k = 5, {precision:.2%} of the firms predicted to evade their taxes actually evaded taxes')"
   ]
  },
  {
   "cell_type": "markdown",
   "id": "119d8cc0",
   "metadata": {},
   "source": [
    "#### With data normalization"
   ]
  },
  {
   "cell_type": "code",
   "execution_count": 19,
   "id": "704908b3",
   "metadata": {},
   "outputs": [
    {
     "data": {
      "text/html": [
       "<div>\n",
       "<style scoped>\n",
       "    .dataframe tbody tr th:only-of-type {\n",
       "        vertical-align: middle;\n",
       "    }\n",
       "\n",
       "    .dataframe tbody tr th {\n",
       "        vertical-align: top;\n",
       "    }\n",
       "\n",
       "    .dataframe thead th {\n",
       "        text-align: right;\n",
       "    }\n",
       "</style>\n",
       "<table border=\"1\" class=\"dataframe\">\n",
       "  <thead>\n",
       "    <tr style=\"text-align: right;\">\n",
       "      <th></th>\n",
       "      <th>Sector_score</th>\n",
       "      <th>PARA_A</th>\n",
       "      <th>Risk_A</th>\n",
       "      <th>PARA_B</th>\n",
       "      <th>Risk_B</th>\n",
       "      <th>Money_Value</th>\n",
       "      <th>Risk_D</th>\n",
       "      <th>Score</th>\n",
       "      <th>Inherent_Risk</th>\n",
       "      <th>Audit_Risk</th>\n",
       "    </tr>\n",
       "  </thead>\n",
       "  <tbody>\n",
       "    <tr>\n",
       "      <th>0</th>\n",
       "      <td>-0.669071</td>\n",
       "      <td>0.304129</td>\n",
       "      <td>0.335827</td>\n",
       "      <td>-0.166006</td>\n",
       "      <td>-0.194273</td>\n",
       "      <td>-0.161614</td>\n",
       "      <td>-0.190146</td>\n",
       "      <td>-0.353484</td>\n",
       "      <td>-0.166753</td>\n",
       "      <td>-0.141265</td>\n",
       "    </tr>\n",
       "    <tr>\n",
       "      <th>1</th>\n",
       "      <td>-0.669071</td>\n",
       "      <td>-0.432005</td>\n",
       "      <td>-0.393216</td>\n",
       "      <td>-0.119482</td>\n",
       "      <td>-0.178777</td>\n",
       "      <td>-0.198271</td>\n",
       "      <td>-0.202356</td>\n",
       "      <td>-0.819385</td>\n",
       "      <td>-0.276733</td>\n",
       "      <td>-0.172402</td>\n",
       "    </tr>\n",
       "    <tr>\n",
       "      <th>2</th>\n",
       "      <td>-0.669071</td>\n",
       "      <td>-0.342190</td>\n",
       "      <td>-0.363566</td>\n",
       "      <td>-0.211331</td>\n",
       "      <td>-0.209370</td>\n",
       "      <td>-0.212393</td>\n",
       "      <td>-0.207059</td>\n",
       "      <td>-0.819385</td>\n",
       "      <td>-0.295112</td>\n",
       "      <td>-0.177606</td>\n",
       "    </tr>\n",
       "    <tr>\n",
       "      <th>3</th>\n",
       "      <td>-0.669071</td>\n",
       "      <td>-0.432005</td>\n",
       "      <td>-0.393216</td>\n",
       "      <td>-0.000278</td>\n",
       "      <td>0.004583</td>\n",
       "      <td>-0.035870</td>\n",
       "      <td>-0.030676</td>\n",
       "      <td>1.976022</td>\n",
       "      <td>-0.003134</td>\n",
       "      <td>-0.094940</td>\n",
       "    </tr>\n",
       "    <tr>\n",
       "      <th>4</th>\n",
       "      <td>-0.669071</td>\n",
       "      <td>-0.432005</td>\n",
       "      <td>-0.393216</td>\n",
       "      <td>-0.214326</td>\n",
       "      <td>-0.210368</td>\n",
       "      <td>-0.212393</td>\n",
       "      <td>-0.207059</td>\n",
       "      <td>-0.819385</td>\n",
       "      <td>-0.297523</td>\n",
       "      <td>-0.178289</td>\n",
       "    </tr>\n",
       "  </tbody>\n",
       "</table>\n",
       "</div>"
      ],
      "text/plain": [
       "   Sector_score    PARA_A    Risk_A    PARA_B    Risk_B  Money_Value  \\\n",
       "0     -0.669071  0.304129  0.335827 -0.166006 -0.194273    -0.161614   \n",
       "1     -0.669071 -0.432005 -0.393216 -0.119482 -0.178777    -0.198271   \n",
       "2     -0.669071 -0.342190 -0.363566 -0.211331 -0.209370    -0.212393   \n",
       "3     -0.669071 -0.432005 -0.393216 -0.000278  0.004583    -0.035870   \n",
       "4     -0.669071 -0.432005 -0.393216 -0.214326 -0.210368    -0.212393   \n",
       "\n",
       "     Risk_D     Score  Inherent_Risk  Audit_Risk  \n",
       "0 -0.190146 -0.353484      -0.166753   -0.141265  \n",
       "1 -0.202356 -0.819385      -0.276733   -0.172402  \n",
       "2 -0.207059 -0.819385      -0.295112   -0.177606  \n",
       "3 -0.030676  1.976022      -0.003134   -0.094940  \n",
       "4 -0.207059 -0.819385      -0.297523   -0.178289  "
      ]
     },
     "metadata": {},
     "output_type": "display_data"
    }
   ],
   "source": [
    "# Normalizing data\n",
    "scaler = StandardScaler()\n",
    "X_scaled = scaler.fit_transform(X)\n",
    "cols = X.columns\n",
    "X_final = pd.DataFrame(X_scaled, columns=cols)\n",
    "display(X_final.head())"
   ]
  },
  {
   "cell_type": "code",
   "execution_count": 20,
   "id": "bc3e4886",
   "metadata": {},
   "outputs": [],
   "source": [
    "# Training/Validation split\n",
    "X_train_n, X_val_n, y_train_n, y_val_n = train_test_split(X_final, y, test_size=0.5, random_state=13)\n",
    "\n",
    "#fit KNN model with k = 5\n",
    "knn_5.fit(X_train_n, y_train_n)\n",
    "knn_5_pred_n = knn_5.predict(X_val_n)"
   ]
  },
  {
   "cell_type": "code",
   "execution_count": 21,
   "id": "0c9ad625",
   "metadata": {},
   "outputs": [
    {
     "name": "stdout",
     "output_type": "stream",
     "text": [
      "[[222   7]\n",
      " [ 15 144]]\n",
      "[[0.96943231 0.03056769]\n",
      " [0.09433962 0.90566038]]\n"
     ]
    }
   ],
   "source": [
    "#Confusion matrix of KNN\n",
    "#Analyze counts\n",
    "cm_KNN_c_n = confusion_matrix(y_val_n, knn_5_pred_n)\n",
    "print(cm_KNN_c_n)\n",
    "\n",
    "#Analyze percentage\n",
    "cm_KNN_p_n = confusion_matrix(y_val_n, knn_5_pred_n, normalize = 'true')\n",
    "print(cm_KNN_p_n)"
   ]
  },
  {
   "cell_type": "code",
   "execution_count": 22,
   "id": "7e1c2d47",
   "metadata": {},
   "outputs": [
    {
     "name": "stdout",
     "output_type": "stream",
     "text": [
      "After normalizing, KNN model with k = 5:  error rate = 5.67% , accuracy = 94.33%\n"
     ]
    }
   ],
   "source": [
    "#report error rate\n",
    "accuracy_n = accuracy_score(y_val_n, knn_5_pred_n)\n",
    "test_error_n = 1 - accuracy_n\n",
    "print(f'After normalizing, KNN model with k = 5:  error rate = {test_error_n:.2%} , accuracy = {accuracy_n:.2%}')"
   ]
  },
  {
   "cell_type": "code",
   "execution_count": 23,
   "id": "91c281d3",
   "metadata": {
    "scrolled": true
   },
   "outputs": [
    {
     "name": "stdout",
     "output_type": "stream",
     "text": [
      "After normalizing, for KNN with k = 5, 95.36% of the firms predicted to evade their taxes actually evaded taxes\n"
     ]
    }
   ],
   "source": [
    "#report the proportion of the firms predicted to evade their taxes actually evaded taxes\n",
    "precision = precision_score(y_val_n, knn_5_pred_n, zero_division=0)\n",
    "print(f'After normalizing, for KNN with k = 5, {precision:.2%} of the firms predicted to evade their taxes actually evaded taxes')"
   ]
  },
  {
   "cell_type": "markdown",
   "id": "a848874d",
   "metadata": {},
   "source": [
    "#### Compare the performance of KNN model with and without data normalization"
   ]
  },
  {
   "cell_type": "markdown",
   "id": "7ea97e16",
   "metadata": {},
   "source": [
    "In this case, KNN model without normalized predictors performs better. Since the precision score of the model without normalized predictors is 98.01%, higher than the precision of the model with normalized predictors, which is 95.36%. And accouding to the acurracy rate, the former also has better performance to the latter. \n",
    "\n",
    "This is a quite rare-find case, since generally we would expect that a KNN model with normalized predictors outperforms one without normalization. This is because KNN calculates the distance between different instances using a distance metric, and if one feature has a much larger scale than another, it can dominate the distance calculation, causing the algorithm to ignore the smaller scale feature, even if that feature is important for the classification.\n",
    "\n",
    "The reason behind this unique case could be: \n",
    "1. the model contains irrelevant feature. If normalization inadvertently gives more weight to noisy or irrelevant features, it could degrade the model's performance. Especially when those irrelevant features have high variance, which could unduly influence the distance calculation.\n",
    "2. the influence of outliers: Normalization can be affected by outliers because they can skew the scale of the data. For example, if min-max scaling is used and there are extreme outliers, most of the data will be compressed into a very small part of the feature range. In such cases, KNN without normalization might perform better because the influence of outliers would be less pronounced."
   ]
  },
  {
   "cell_type": "markdown",
   "id": "19d0c70b",
   "metadata": {},
   "source": [
    "#### Find the k with the lowest classification error rate"
   ]
  },
  {
   "cell_type": "code",
   "execution_count": 24,
   "id": "8675d885",
   "metadata": {},
   "outputs": [
    {
     "name": "stdout",
     "output_type": "stream",
     "text": [
      "Best parameters: {'n_neighbors': 3}\n",
      "Best cross-validation score:\" 95.88%\n",
      "lowest error rate\" 4.12%\n"
     ]
    }
   ],
   "source": [
    "# Shuffle and split the data into training and test sets\n",
    "X_train, X_test, y_train, y_test = train_test_split(\n",
    "    X, y, test_size=0.5, random_state=13, shuffle=True\n",
    ")\n",
    "\n",
    "ks = list(range(1, 20))  #upper bound of k is set as the sqrt(No. of rows in training set) = sqrt(387) = 20\n",
    "\n",
    "para = {'n_neighbors': ks}\n",
    "\n",
    "# Initialize the KNN classifier\n",
    "knni = KNeighborsClassifier()\n",
    "\n",
    "# Set up 5-fold cross-validation scheme\n",
    "knn_cv = GridSearchCV(knni, para, cv=KFold(5, random_state=42, shuffle=True))\n",
    "\n",
    "# Fit the model\n",
    "knn_cv.fit(X_train, y_train)\n",
    "\n",
    "print(\"Best parameters:\", knn_cv.best_params_)\n",
    "print(f'Best cross-validation score:\" {knn_cv.best_score_:.2%}')\n",
    "print(f'lowest error rate\" {1-knn_cv.best_score_:.2%}')"
   ]
  },
  {
   "cell_type": "markdown",
   "id": "48863bbc",
   "metadata": {},
   "source": [
    "When k = 3, the model yields the lowest error rate as 4.12%"
   ]
  },
  {
   "cell_type": "markdown",
   "id": "3351b676",
   "metadata": {},
   "source": [
    "### Problems and Risks of using KNN model to target audits in the long run"
   ]
  },
  {
   "cell_type": "markdown",
   "id": "87c1e68e",
   "metadata": {},
   "source": [
    "The dataset is biased. Variables such as 'Sector' and 'Inherent Rosk', which records the historical risk score of industries and firms, are not representative of the truth of the entire population of firms but only the firms that were previously selected for audits. For the rest of firms, which are not performed ausit, their historical risk score would bias towards 0. Therefore, the training data for future years is not 100% trustworthy. A model trained on a biased sample can biased to overly target perviously audited firms, and potentially ignoring other types of firms that might be non-compliant. \n",
    "\n"
   ]
  }
 ],
 "metadata": {
  "kernelspec": {
   "display_name": "Python 3 (ipykernel)",
   "language": "python",
   "name": "python3"
  },
  "language_info": {
   "codemirror_mode": {
    "name": "ipython",
    "version": 3
   },
   "file_extension": ".py",
   "mimetype": "text/x-python",
   "name": "python",
   "nbconvert_exporter": "python",
   "pygments_lexer": "ipython3",
   "version": "3.11.5"
  }
 },
 "nbformat": 4,
 "nbformat_minor": 5
}
